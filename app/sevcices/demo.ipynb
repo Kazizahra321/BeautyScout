{
 "cells": [
  {
   "cell_type": "code",
   "execution_count": 3,
   "metadata": {},
   "outputs": [
    {
     "name": "stderr",
     "output_type": "stream",
     "text": [
      "<>:2: SyntaxWarning: invalid escape sequence '\\m'\n",
      "<>:2: SyntaxWarning: invalid escape sequence '\\m'\n",
      "C:\\Users\\Piyush_Kale\\AppData\\Local\\Temp\\ipykernel_4528\\3061854815.py:2: SyntaxWarning: invalid escape sequence '\\m'\n",
      "  bge_model = SentenceTransformer('..\\model')\n",
      "You try to use a model that was created with version 3.0.1, however, your version is 2.7.0. This might cause unexpected behavior or errors. In that case, try to update to the latest version.\n",
      "\n",
      "\n",
      "\n"
     ]
    }
   ],
   "source": [
    "\n",
    "from sentence_transformers import SentenceTransformer\n",
    "bge_model = SentenceTransformer('..\\model')\n",
    "# import .model"
   ]
  },
  {
   "cell_type": "code",
   "execution_count": 6,
   "metadata": {},
   "outputs": [
    {
     "name": "stdout",
     "output_type": "stream",
     "text": [
      "Updated item with id: 3d1a44dc-1590-47c4-a309-1fd0584093ff\n",
      "Updated item with id: e43339b2-ef3f-4e32-a03c-60ee46e3c10f\n",
      "Updated item with id: c6ca0eb4-fdb8-4079-a01b-68878f2341a9\n",
      "Updated item with id: a1cdf512-c6db-419e-97b4-fc7753b31382\n",
      "Updated item with id: c445b3ad-6887-4f2d-ae57-d863ab215b75\n",
      "Updated item with id: d7661251-d86c-400d-a7bf-ca5bc7c0a4fb\n",
      "Updated item with id: e6e3a6b2-7032-4880-96fc-7c6f251f3bef\n",
      "Updated item with id: 4b66d276-69bd-49be-afe3-868addc1e7ee\n",
      "Updated item with id: 43b0945c-1b55-430d-b066-2392a10f0d10\n",
      "Updated item with id: f62ea51f-40bd-4b53-8046-fa79edb741ee\n",
      "Updated item with id: a0389e2e-c105-4d5d-9d24-1ca6e92a4f1e\n",
      "Updated item with id: 5bcf404d-292d-411e-9b5b-86ed3fb2cda9\n",
      "Updated item with id: 050597d9-3003-4ab9-b8e7-3cd148c709f8\n",
      "Updated item with id: b5c64ec7-4b5f-4031-932b-465f34fdee98\n",
      "Updated item with id: a025023d-463e-4fcd-aa0e-323087f8007f\n",
      "Updated item with id: 0a2fc116-5c93-4036-a4b6-74fe5d1a76cc\n",
      "Updated item with id: 4b3b62be-dd69-40ac-870d-de41d22f3831\n",
      "Updated item with id: 63b6bcb1-2aab-4bf3-9e71-0805feb68c66\n",
      "Updated item with id: b3baccb4-c8cc-488d-a002-c2d2692bb18d\n",
      "Updated item with id: adc949c7-1836-43b9-8cdd-524399ef7531\n",
      "Updated item with id: 5933829e-f6b9-48e7-8317-ac8f4a1b9ee7\n",
      "Updated item with id: 2b1e4c3b-1aa2-4cf5-b9a5-3afda428dbfe\n",
      "Updated item with id: 06e518bb-fa32-4085-bd48-62d2b483c360\n",
      "Updated item with id: afd662b5-fd3f-48ed-a16b-93f0a49dded0\n",
      "Updated item with id: ee29c07d-506f-4cb3-8c50-ad110f4c40c3\n",
      "Updated item with id: 4d385f47-eed6-4c8f-aa19-6075955ce235\n",
      "Updated item with id: a675c7bb-abc6-4f2a-b49f-307373f49192\n",
      "Updated item with id: 48863028-c3b7-415b-8ce7-9ea311de7546\n",
      "Updated item with id: 38d48f71-ae8f-4abf-897b-4af6d9170784\n",
      "Updated item with id: 6c5e1350-0a14-43b6-8e5a-715c3d30857f\n",
      "Updated item with id: 4c83d3be-4bec-4c71-930f-5a4a6483dbe8\n",
      "Updated item with id: be212183-0bc1-4e9f-82eb-53a18e43a85c\n",
      "Updated item with id: 98beb022-0f6c-4236-818a-ab25ce965fd5\n",
      "Updated item with id: 64138094-bc55-48fa-88b4-1df73dc3789e\n",
      "Updated item with id: a011e207-5ff6-4a6c-84a1-55e4c54c2fbc\n",
      "Updated item with id: 8fac2c4d-95d3-4dcf-8f81-597df72e55fa\n",
      "Updated item with id: 53cbe0d9-e340-4c5d-90b1-039e4de08a9a\n",
      "Updated item with id: 0670c41f-f33a-4952-9f14-af631e331630\n",
      "Updated item with id: 8a75d185-d965-452a-aa2a-01fb6d7f14e2\n"
     ]
    }
   ],
   "source": [
    "from azure.cosmos import CosmosClient, exceptions\n",
    "from sentence_transformers import SentenceTransformer\n",
    "\n",
    "# Initialize the Cosmos client\n",
    "# Azure Cosmos DB connection information\n",
    "url = 'https://makeupcosmos.documents.azure.com:443/'  # Replace with your Cosmos DB account URL\n",
    "key = 'X7farQPzXdrEbqj87avAD3Th95L9vuNx80PDiBmp5hMADfsZZ3VZYkzsYFuOI6sEViIjxZ5jndaCACDbTt5lxg=='  # Replace with your Cosmos DB account key\n",
    "client = CosmosClient(url, key)\n",
    "\n",
    "# Select the database and container\n",
    "database_name = \"Makeup_db\"\n",
    "container_name = \"Makeup_container\"\n",
    "database = client.get_database_client(database_name)\n",
    "container = database.get_container_client(container_name)\n",
    "\n",
    "\n",
    "# Function to generate embeddings\n",
    "def bge_embeddings(string):\n",
    "    try:\n",
    "        embedding = bge_model.encode(string)\n",
    "        return embedding.tolist()\n",
    "    except Exception as e:\n",
    "        print(\"Error on bge_embeddings\", exc_info=e)\n",
    "        raise e\n",
    "\n",
    "# Function to read items, embed description, and update the item\n",
    "def embed_and_update_items():\n",
    "    try:\n",
    "        items = list(container.read_all_items())\n",
    "        for item in items:\n",
    "            if 'description' in item:\n",
    "                description = item['description']\n",
    "                embedding = bge_embeddings(description)\n",
    "                item['description_embedding'] = embedding\n",
    "\n",
    "                # Update the item in the container\n",
    "                container.upsert_item(item)\n",
    "                print(f\"Updated item with id: {item['id']}\")\n",
    "\n",
    "    except exceptions.CosmosHttpResponseError as e:\n",
    "        print(f\"An error occurred: {str(e)}\")\n",
    "\n",
    "# Call the function to embed descriptions and update items\n",
    "embed_and_update_items()\n"
   ]
  },
  {
   "cell_type": "code",
   "execution_count": 6,
   "metadata": {},
   "outputs": [],
   "source": [
    "embedding = bge_model.encode('query')"
   ]
  },
  {
   "cell_type": "code",
   "execution_count": 7,
   "metadata": {},
   "outputs": [
    {
     "name": "stdout",
     "output_type": "stream",
     "text": [
      "Requirement already satisfied: openai in c:\\users\\piyush_kale\\appdata\\local\\programs\\python\\python312\\lib\\site-packages (0.27.8)\n",
      "Requirement already satisfied: requests>=2.20 in c:\\users\\piyush_kale\\appdata\\local\\programs\\python\\python312\\lib\\site-packages (from openai) (2.32.2)\n",
      "Requirement already satisfied: tqdm in c:\\users\\piyush_kale\\appdata\\local\\programs\\python\\python312\\lib\\site-packages (from openai) (4.66.4)\n",
      "Requirement already satisfied: aiohttp in c:\\users\\piyush_kale\\appdata\\local\\programs\\python\\python312\\lib\\site-packages (from openai) (3.9.5)\n",
      "Requirement already satisfied: charset-normalizer<4,>=2 in c:\\users\\piyush_kale\\appdata\\local\\programs\\python\\python312\\lib\\site-packages (from requests>=2.20->openai) (3.3.2)\n",
      "Requirement already satisfied: idna<4,>=2.5 in c:\\users\\piyush_kale\\appdata\\local\\programs\\python\\python312\\lib\\site-packages (from requests>=2.20->openai) (3.7)\n",
      "Requirement already satisfied: urllib3<3,>=1.21.1 in c:\\users\\piyush_kale\\appdata\\local\\programs\\python\\python312\\lib\\site-packages (from requests>=2.20->openai) (2.2.1)\n",
      "Requirement already satisfied: certifi>=2017.4.17 in c:\\users\\piyush_kale\\appdata\\local\\programs\\python\\python312\\lib\\site-packages (from requests>=2.20->openai) (2024.2.2)\n",
      "Requirement already satisfied: aiosignal>=1.1.2 in c:\\users\\piyush_kale\\appdata\\local\\programs\\python\\python312\\lib\\site-packages (from aiohttp->openai) (1.3.1)\n",
      "Requirement already satisfied: attrs>=17.3.0 in c:\\users\\piyush_kale\\appdata\\local\\programs\\python\\python312\\lib\\site-packages (from aiohttp->openai) (23.2.0)\n",
      "Requirement already satisfied: frozenlist>=1.1.1 in c:\\users\\piyush_kale\\appdata\\local\\programs\\python\\python312\\lib\\site-packages (from aiohttp->openai) (1.4.1)\n",
      "Requirement already satisfied: multidict<7.0,>=4.5 in c:\\users\\piyush_kale\\appdata\\local\\programs\\python\\python312\\lib\\site-packages (from aiohttp->openai) (6.0.5)\n",
      "Requirement already satisfied: yarl<2.0,>=1.0 in c:\\users\\piyush_kale\\appdata\\local\\programs\\python\\python312\\lib\\site-packages (from aiohttp->openai) (1.9.4)\n",
      "Requirement already satisfied: colorama in c:\\users\\piyush_kale\\appdata\\local\\programs\\python\\python312\\lib\\site-packages (from tqdm->openai) (0.4.6)\n",
      "Note: you may need to restart the kernel to use updated packages.\n"
     ]
    },
    {
     "name": "stderr",
     "output_type": "stream",
     "text": [
      "\n",
      "[notice] A new release of pip is available: 24.0 -> 24.2\n",
      "[notice] To update, run: python.exe -m pip install --upgrade pip\n"
     ]
    }
   ],
   "source": [
    "pip install openai"
   ]
  },
  {
   "cell_type": "code",
   "execution_count": 28,
   "metadata": {},
   "outputs": [],
   "source": [
    "import openai\n",
    "OPENAI_API_KEY = '0e1d9e5926cf46c286b2f8fa7c2692b5'\n",
    "OPENAI_API_TYPE = \"azure\"\n",
    "OPENAI_API_BASE = f\"https://apusegtodvoai01.openai.azure.com\"\n",
    "OPENAI_API_VERSION = \"2023-03-15-preview\"\n",
    "MODEL_DEPLOYMENT_NAME = 'deployment-gpt-35-turbo-16k'\n",
    "\n",
    "openai.api_type = \"azure\"\n",
    "openai.api_base = OPENAI_API_BASE\n",
    "openai.api_version = OPENAI_API_VERSION\n",
    "openai.api_key = OPENAI_API_KEY\n",
    "\n",
    "prompt='''So here is the row of the container in Cosmos .\n",
    "    description of column:\n",
    "    makeup_id: A unique identifier for each makeup product.\n",
    "    name: The specific name of the product, such as \"Maybelline Fit Me Foundation.\"\n",
    "    brand: The brand name associated with the product, like \"Maybelline\" or \"MAC.\"\n",
    "    category: The type of makeup product, such as \"Foundation,\" \"Lipstick,\" \"Blush,\" etc.\n",
    "    price: The price of the product in USD.\n",
    "    rating: The customer rating of the product on a scale of 1 to 5.\n",
    "    color: The shade or color of the product, such as \"Natural Beige\" or \"Ruby Woo.\"\n",
    "    description: A brief description of the product, highlighting its features, like \"A lightweight foundation that provides a flawless finish.\"\n",
    "    image: The filename of an image representing the product.\n",
    "\n",
    "    row={\n",
    "    \"makeup_id\": \"1\",\n",
    "    \"name\": \"Maybelline Fit Me Foundation\",\n",
    "    \"brand\": \"Maybelline\",\n",
    "    \"category\": \"Foundation\",\n",
    "    \"price\": 7.99,\n",
    "    \"rating\": 4.5,\n",
    "    \"color\": \"Natural Beige\",\n",
    "    \"description\": \"A lightweight foundation that provides a flawless finish and matches natural skin tone.\"}\n",
    "    \n",
    "    write a sql query to get the data from the container from the given Query.\n",
    "    Query: i want Lakme's Lipstick.\n",
    "    \n",
    "    Rules:\n",
    "    1. Only Give the query and nothing else.\n",
    "'''\n",
    "\n",
    "response = openai.ChatCompletion.create(\n",
    "            engine=\"deployment-gpt-35-turbo-16k\",\n",
    "            messages=[{'role': 'system', 'content': 'You are a helpfull assitant'},{'role': 'user', 'content': prompt}],\n",
    "            temperature=0.1,\n",
    "            max_tokens=1500,\n",
    "            top_p=0.95,\n",
    "            frequency_penalty=0,\n",
    "            presence_penalty=0,\n",
    "            stop=None\n",
    "        )"
   ]
  },
  {
   "cell_type": "code",
   "execution_count": 29,
   "metadata": {},
   "outputs": [
    {
     "data": {
      "text/plain": [
       "<OpenAIObject chat.completion id=chatcmpl-A3jxx5cAigkFhqVrQ5O4rhepiXlqb at 0x1b1abc5c500> JSON: {\n",
       "  \"choices\": [\n",
       "    {\n",
       "      \"finish_reason\": \"stop\",\n",
       "      \"index\": 0,\n",
       "      \"message\": {\n",
       "        \"content\": \"SELECT * FROM container WHERE brand = 'Lakme' AND category = 'Lipstick';\",\n",
       "        \"role\": \"assistant\"\n",
       "      }\n",
       "    }\n",
       "  ],\n",
       "  \"created\": 1725455041,\n",
       "  \"id\": \"chatcmpl-A3jxx5cAigkFhqVrQ5O4rhepiXlqb\",\n",
       "  \"model\": \"gpt-35-turbo-16k\",\n",
       "  \"object\": \"chat.completion\",\n",
       "  \"system_fingerprint\": null,\n",
       "  \"usage\": {\n",
       "    \"completion_tokens\": 20,\n",
       "    \"prompt_tokens\": 334,\n",
       "    \"total_tokens\": 354\n",
       "  }\n",
       "}"
      ]
     },
     "execution_count": 29,
     "metadata": {},
     "output_type": "execute_result"
    }
   ],
   "source": [
    "response"
   ]
  },
  {
   "cell_type": "code",
   "execution_count": 1,
   "metadata": {},
   "outputs": [
    {
     "name": "stdout",
     "output_type": "stream",
     "text": [
      "Requirement already satisfied: sentence-transformers in c:\\users\\piyush_kale\\appdata\\local\\programs\\python\\python312\\lib\\site-packages (2.7.0)\n",
      "Requirement already satisfied: transformers<5.0.0,>=4.34.0 in c:\\users\\piyush_kale\\appdata\\local\\programs\\python\\python312\\lib\\site-packages (from sentence-transformers) (4.41.1)\n",
      "Requirement already satisfied: tqdm in c:\\users\\piyush_kale\\appdata\\local\\programs\\python\\python312\\lib\\site-packages (from sentence-transformers) (4.66.4)\n",
      "Requirement already satisfied: torch>=1.11.0 in c:\\users\\piyush_kale\\appdata\\local\\programs\\python\\python312\\lib\\site-packages (from sentence-transformers) (2.3.0)\n",
      "Requirement already satisfied: numpy in c:\\users\\piyush_kale\\appdata\\local\\programs\\python\\python312\\lib\\site-packages (from sentence-transformers) (1.26.4)\n",
      "Requirement already satisfied: scikit-learn in c:\\users\\piyush_kale\\appdata\\local\\programs\\python\\python312\\lib\\site-packages (from sentence-transformers) (1.5.0)\n",
      "Requirement already satisfied: scipy in c:\\users\\piyush_kale\\appdata\\local\\programs\\python\\python312\\lib\\site-packages (from sentence-transformers) (1.13.1)\n",
      "Requirement already satisfied: huggingface-hub>=0.15.1 in c:\\users\\piyush_kale\\appdata\\local\\programs\\python\\python312\\lib\\site-packages (from sentence-transformers) (0.23.2)\n",
      "Requirement already satisfied: Pillow in c:\\users\\piyush_kale\\appdata\\local\\programs\\python\\python312\\lib\\site-packages (from sentence-transformers) (10.3.0)\n",
      "Requirement already satisfied: filelock in c:\\users\\piyush_kale\\appdata\\local\\programs\\python\\python312\\lib\\site-packages (from huggingface-hub>=0.15.1->sentence-transformers) (3.14.0)\n",
      "Requirement already satisfied: fsspec>=2023.5.0 in c:\\users\\piyush_kale\\appdata\\local\\programs\\python\\python312\\lib\\site-packages (from huggingface-hub>=0.15.1->sentence-transformers) (2024.5.0)\n",
      "Requirement already satisfied: packaging>=20.9 in c:\\users\\piyush_kale\\appdata\\local\\programs\\python\\python312\\lib\\site-packages (from huggingface-hub>=0.15.1->sentence-transformers) (23.2)\n",
      "Requirement already satisfied: pyyaml>=5.1 in c:\\users\\piyush_kale\\appdata\\local\\programs\\python\\python312\\lib\\site-packages (from huggingface-hub>=0.15.1->sentence-transformers) (6.0.1)\n",
      "Requirement already satisfied: requests in c:\\users\\piyush_kale\\appdata\\local\\programs\\python\\python312\\lib\\site-packages (from huggingface-hub>=0.15.1->sentence-transformers) (2.32.2)\n",
      "Requirement already satisfied: typing-extensions>=3.7.4.3 in c:\\users\\piyush_kale\\appdata\\local\\programs\\python\\python312\\lib\\site-packages (from huggingface-hub>=0.15.1->sentence-transformers) (4.12.0)\n",
      "Requirement already satisfied: sympy in c:\\users\\piyush_kale\\appdata\\local\\programs\\python\\python312\\lib\\site-packages (from torch>=1.11.0->sentence-transformers) (1.12)\n",
      "Requirement already satisfied: networkx in c:\\users\\piyush_kale\\appdata\\local\\programs\\python\\python312\\lib\\site-packages (from torch>=1.11.0->sentence-transformers) (3.3)\n",
      "Requirement already satisfied: jinja2 in c:\\users\\piyush_kale\\appdata\\local\\programs\\python\\python312\\lib\\site-packages (from torch>=1.11.0->sentence-transformers) (3.1.4)\n",
      "Requirement already satisfied: mkl<=2021.4.0,>=2021.1.1 in c:\\users\\piyush_kale\\appdata\\local\\programs\\python\\python312\\lib\\site-packages (from torch>=1.11.0->sentence-transformers) (2021.4.0)\n",
      "Requirement already satisfied: colorama in c:\\users\\piyush_kale\\appdata\\local\\programs\\python\\python312\\lib\\site-packages (from tqdm->sentence-transformers) (0.4.6)\n",
      "Requirement already satisfied: regex!=2019.12.17 in c:\\users\\piyush_kale\\appdata\\local\\programs\\python\\python312\\lib\\site-packages (from transformers<5.0.0,>=4.34.0->sentence-transformers) (2024.5.15)\n",
      "Requirement already satisfied: tokenizers<0.20,>=0.19 in c:\\users\\piyush_kale\\appdata\\local\\programs\\python\\python312\\lib\\site-packages (from transformers<5.0.0,>=4.34.0->sentence-transformers) (0.19.1)\n",
      "Requirement already satisfied: safetensors>=0.4.1 in c:\\users\\piyush_kale\\appdata\\local\\programs\\python\\python312\\lib\\site-packages (from transformers<5.0.0,>=4.34.0->sentence-transformers) (0.4.3)\n",
      "Requirement already satisfied: joblib>=1.2.0 in c:\\users\\piyush_kale\\appdata\\local\\programs\\python\\python312\\lib\\site-packages (from scikit-learn->sentence-transformers) (1.4.2)\n",
      "Requirement already satisfied: threadpoolctl>=3.1.0 in c:\\users\\piyush_kale\\appdata\\local\\programs\\python\\python312\\lib\\site-packages (from scikit-learn->sentence-transformers) (3.5.0)\n",
      "Requirement already satisfied: intel-openmp==2021.* in c:\\users\\piyush_kale\\appdata\\local\\programs\\python\\python312\\lib\\site-packages (from mkl<=2021.4.0,>=2021.1.1->torch>=1.11.0->sentence-transformers) (2021.4.0)\n",
      "Requirement already satisfied: tbb==2021.* in c:\\users\\piyush_kale\\appdata\\local\\programs\\python\\python312\\lib\\site-packages (from mkl<=2021.4.0,>=2021.1.1->torch>=1.11.0->sentence-transformers) (2021.12.0)\n",
      "Requirement already satisfied: MarkupSafe>=2.0 in c:\\users\\piyush_kale\\appdata\\local\\programs\\python\\python312\\lib\\site-packages (from jinja2->torch>=1.11.0->sentence-transformers) (2.1.5)\n",
      "Requirement already satisfied: charset-normalizer<4,>=2 in c:\\users\\piyush_kale\\appdata\\local\\programs\\python\\python312\\lib\\site-packages (from requests->huggingface-hub>=0.15.1->sentence-transformers) (3.3.2)\n",
      "Requirement already satisfied: idna<4,>=2.5 in c:\\users\\piyush_kale\\appdata\\local\\programs\\python\\python312\\lib\\site-packages (from requests->huggingface-hub>=0.15.1->sentence-transformers) (3.7)\n",
      "Requirement already satisfied: urllib3<3,>=1.21.1 in c:\\users\\piyush_kale\\appdata\\local\\programs\\python\\python312\\lib\\site-packages (from requests->huggingface-hub>=0.15.1->sentence-transformers) (2.2.1)\n",
      "Requirement already satisfied: certifi>=2017.4.17 in c:\\users\\piyush_kale\\appdata\\local\\programs\\python\\python312\\lib\\site-packages (from requests->huggingface-hub>=0.15.1->sentence-transformers) (2024.2.2)\n",
      "Requirement already satisfied: mpmath>=0.19 in c:\\users\\piyush_kale\\appdata\\local\\programs\\python\\python312\\lib\\site-packages (from sympy->torch>=1.11.0->sentence-transformers) (1.3.0)\n",
      "Note: you may need to restart the kernel to use updated packages.\n"
     ]
    },
    {
     "name": "stderr",
     "output_type": "stream",
     "text": [
      "\n",
      "[notice] A new release of pip is available: 24.0 -> 24.2\n",
      "[notice] To update, run: python.exe -m pip install --upgrade pip\n"
     ]
    }
   ],
   "source": [
    "%pip install sentence-transformers"
   ]
  },
  {
   "cell_type": "code",
   "execution_count": null,
   "metadata": {},
   "outputs": [],
   "source": []
  }
 ],
 "metadata": {
  "kernelspec": {
   "display_name": "base",
   "language": "python",
   "name": "python3"
  },
  "language_info": {
   "codemirror_mode": {
    "name": "ipython",
    "version": 3
   },
   "file_extension": ".py",
   "mimetype": "text/x-python",
   "name": "python",
   "nbconvert_exporter": "python",
   "pygments_lexer": "ipython3",
   "version": "3.12.1"
  }
 },
 "nbformat": 4,
 "nbformat_minor": 2
}
